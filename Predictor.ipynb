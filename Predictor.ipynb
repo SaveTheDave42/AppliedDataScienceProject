{
 "cells": [
  {
   "cell_type": "code",
   "execution_count": 1,
   "metadata": {},
   "outputs": [
    {
     "data": {
      "application/vnd.jupyter.widget-view+json": {
       "model_id": "67bf556412114d00a7ae36a62e9c889e",
       "version_major": 2,
       "version_minor": 0
      },
      "text/plain": [
       "VBox(children=(FloatSlider(value=3.0, description='Rooms', max=10.0, min=1.0, step=0.5), IntSlider(value=5, de…"
      ]
     },
     "execution_count": 1,
     "metadata": {},
     "output_type": "execute_result"
    },
    {
     "name": "stderr",
     "output_type": "stream",
     "text": [
      "c:\\Users\\User\\anaconda3\\envs\\adspenv\\Lib\\site-packages\\sklearn\\base.py:493: UserWarning: X does not have valid feature names, but StandardScaler was fitted with feature names\n",
      "  warnings.warn(\n"
     ]
    },
    {
     "ename": "AttributeError",
     "evalue": "'GridSearchCV' object has no attribute 'estimators_'",
     "output_type": "error",
     "traceback": [
      "\u001b[1;31m---------------------------------------------------------------------------\u001b[0m",
      "\u001b[1;31mAttributeError\u001b[0m                            Traceback (most recent call last)",
      "Cell \u001b[1;32mIn[1], line 56\u001b[0m, in \u001b[0;36mpredict_price\u001b[1;34m(button)\u001b[0m\n\u001b[0;32m     53\u001b[0m predicted_price \u001b[38;5;241m=\u001b[39m model\u001b[38;5;241m.\u001b[39mpredict(features)[\u001b[38;5;241m0\u001b[39m]\n\u001b[0;32m     55\u001b[0m \u001b[38;5;66;03m# Calculate the standard deviation of the predictions from each tree\u001b[39;00m\n\u001b[1;32m---> 56\u001b[0m predictions \u001b[38;5;241m=\u001b[39m [tree\u001b[38;5;241m.\u001b[39mpredict(features) \u001b[38;5;28;01mfor\u001b[39;00m tree \u001b[38;5;129;01min\u001b[39;00m \u001b[43mmodel\u001b[49m\u001b[38;5;241;43m.\u001b[39;49m\u001b[43mestimators_\u001b[49m]\n\u001b[0;32m     57\u001b[0m std_dev \u001b[38;5;241m=\u001b[39m np\u001b[38;5;241m.\u001b[39mstd(predictions)\n\u001b[0;32m     59\u001b[0m \u001b[38;5;66;03m# Display predicted price and confidence interval\u001b[39;00m\n",
      "\u001b[1;31mAttributeError\u001b[0m: 'GridSearchCV' object has no attribute 'estimators_'"
     ]
    }
   ],
   "source": [
    "import ipywidgets as widgets\n",
    "import pandas as pd\n",
    "import joblib\n",
    "import requests\n",
    "\n",
    "# Load your pre-trained random forest model\n",
    "model = joblib.load('randomforest.joblib')\n",
    "scaler = joblib.load('scaler.joblib')\n",
    "feature_names = joblib.load('feature_names.joblib')\n",
    "\n",
    "# Create input widgets\n",
    "num_rooms = widgets.FloatSlider(description='Rooms', min=1, max=10, step=0.5, value=3)\n",
    "floor = widgets.IntSlider(description='Floor', min=0, max=20, value=5)\n",
    "living_space = widgets.IntSlider(description='Living Space (sqft)', min=10, max=500, value=100)\n",
    "street_input = widgets.Text(description='Street Name')\n",
    "city_input = widgets.Text(description='City')\n",
    "postal_code_input = widgets.Text(description='Postal Code')\n",
    "\n",
    "# Create OK button\n",
    "ok_button = widgets.Button(description='OK')\n",
    "\n",
    "# Function to geocode address using API\n",
    "def geocode_address(street, city, postal_code):\n",
    "    url = f\"https://nominatim.openstreetmap.org/search?street={street}&city={city}&postalcode={postal_code}&country=Switzerland&format=json\"\n",
    "    response = requests.get(url)\n",
    "    data = response.json()\n",
    "    if data:\n",
    "        latitude = data[0]['lat']\n",
    "        longitude = data[0]['lon']\n",
    "        return latitude, longitude\n",
    "    else:\n",
    "        return None, None\n",
    "\n",
    "def predict_price(button):\n",
    "    # Get user inputs\n",
    "    latitude, longitude = geocode_address(street_input.value, city_input.value, postal_code_input.value)\n",
    "    if latitude is None or longitude is None:\n",
    "        print(\"Unable to geocode address.\")\n",
    "        return\n",
    "    features = pd.DataFrame({\n",
    "        'Rooms': [num_rooms.value],\n",
    "        'Floor': [floor.value],\n",
    "        'Living Space (sqft)': [living_space.value],\n",
    "        'Latitude': [latitude],\n",
    "        'Longitude': [longitude],\n",
    "        'PostalCode': [postal_code_input.value], \n",
    "    })\n",
    "    \n",
    "    # Standardize the features\n",
    "    features = scaler.transform(features.values)\n",
    "    \n",
    "    # Predict price\n",
    "    predicted_price = model.predict(features)[0]\n",
    "    \n",
    "    # Calculate the standard deviation of the predictions from each tree\n",
    "    predictions = [tree.predict(features) for tree in model.estimators_]\n",
    "    std_dev = np.std(predictions)\n",
    "    \n",
    "    # Display predicted price and confidence interval\n",
    "    with price_output:\n",
    "        print(f'Predicted Price: CHF {predicted_price:.2f}')\n",
    "        print(f'Confidence Interval: CHF {predicted_price - 2*std_dev:.2f} - CHF {predicted_price + 2*std_dev:.2f}')\n",
    "    \n",
    "    # Display feature importances\n",
    "    importances = model.feature_importances_\n",
    "    for feature_name, importance in zip(feature_names, importances):\n",
    "        print(f'{feature_name}: {importance*100:.2f}%')\n",
    "\n",
    "# Attach event handler to OK button\n",
    "ok_button.on_click(predict_price)\n",
    "\n",
    "# Create output widget for displaying predicted price\n",
    "price_output = widgets.Output()\n",
    "\n",
    "# Display widgets\n",
    "widgets.VBox([num_rooms, floor, living_space, street_input, city_input, postal_code_input, ok_button, price_output])"
   ]
  }
 ],
 "metadata": {
  "kernelspec": {
   "display_name": "adspenv",
   "language": "python",
   "name": "python3"
  },
  "language_info": {
   "codemirror_mode": {
    "name": "ipython",
    "version": 3
   },
   "file_extension": ".py",
   "mimetype": "text/x-python",
   "name": "python",
   "nbconvert_exporter": "python",
   "pygments_lexer": "ipython3",
   "version": "3.11.8"
  }
 },
 "nbformat": 4,
 "nbformat_minor": 2
}
