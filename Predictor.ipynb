{
 "cells": [
  {
   "cell_type": "code",
   "execution_count": 11,
   "metadata": {},
   "outputs": [
    {
     "data": {
      "application/vnd.jupyter.widget-view+json": {
       "model_id": "e4cb6b491489427293cd05fb7db15196",
       "version_major": 2,
       "version_minor": 0
      },
      "text/plain": [
       "VBox(children=(FloatSlider(value=3.0, description='Rooms', max=10.0, min=1.0, step=0.5), IntSlider(value=5, de…"
      ]
     },
     "execution_count": 11,
     "metadata": {},
     "output_type": "execute_result"
    }
   ],
   "source": [
    "# Import necessary libraries\n",
    "import ipywidgets as widgets\n",
    "import pandas as pd\n",
    "import joblib\n",
    "from geopy.geocoders import Nominatim\n",
    "\n",
    "# Load your pre-trained random forest model\n",
    "model = joblib.load('randomforest.joblib')\n",
    "\n",
    "# Create input widgets\n",
    "num_rooms = widgets.FloatSlider(description='Rooms', min=1, max=10, step=0.5, value=3)\n",
    "floor = widgets.IntSlider(description='Floor', min=0, max=20, value=5)\n",
    "living_space = widgets.IntSlider(description='Living Space (sqft)', min=10, max=500, value=100)\n",
    "address_input = widgets.Text(description='Address')\n",
    "postal_code_input = widgets.Text(description='Postal Code')\n",
    "\n",
    "# Create OK button\n",
    "ok_button = widgets.Button(description='OK')\n",
    "\n",
    "# Function to geocode address\n",
    "def geocode_address(address):\n",
    "    geolocator = Nominatim(user_agent=\"geoapiExercises\")\n",
    "    location = geolocator.geocode(address)\n",
    "    return location.latitude, location.longitude\n",
    "\n",
    "def predict_price(button):\n",
    "    # Get user inputs\n",
    "    latitude, longitude = geocode_address(address_input.value)\n",
    "    if latitude is None or longitude is None:\n",
    "        print(\"Unable to geocode address.\")\n",
    "        return\n",
    "    features = pd.DataFrame({\n",
    "        'Rooms': [num_rooms.value],\n",
    "        'Floor': [floor.value],\n",
    "        'LivingSpace': [living_space.value],\n",
    "        'Latitude': [latitude],\n",
    "        'Longitude': [longitude],\n",
    "        'postalcode': postal_code_input.value,\n",
    "    })\n",
    "    \n",
    "    # Predict price\n",
    "    predicted_price = model.predict(features.values)[0]  # Use .values here\n",
    "\n",
    "    # Display predicted price\n",
    "    with price_output:\n",
    "        print(f'Predicted Price: CHF {predicted_price:.2f}')\n",
    "\n",
    "# Attach event handler to OK button\n",
    "ok_button.on_click(predict_price)\n",
    "\n",
    "# Create output widget for displaying predicted price\n",
    "price_output = widgets.Output()\n",
    "\n",
    "# Display widgets\n",
    "widgets.VBox([num_rooms, floor, living_space, address_input, postal_code_input, ok_button, price_output])"
   ]
  }
 ],
 "metadata": {
  "kernelspec": {
   "display_name": "adspenv",
   "language": "python",
   "name": "python3"
  },
  "language_info": {
   "codemirror_mode": {
    "name": "ipython",
    "version": 3
   },
   "file_extension": ".py",
   "mimetype": "text/x-python",
   "name": "python",
   "nbconvert_exporter": "python",
   "pygments_lexer": "ipython3",
   "version": "3.11.8"
  }
 },
 "nbformat": 4,
 "nbformat_minor": 2
}
