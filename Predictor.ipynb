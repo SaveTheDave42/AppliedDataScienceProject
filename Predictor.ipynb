{
 "cells": [
  {
   "cell_type": "code",
   "execution_count": 20,
   "metadata": {},
   "outputs": [
    {
     "data": {
      "application/vnd.jupyter.widget-view+json": {
       "model_id": "e8e0b21ae2c04f7587fc483e6593685c",
       "version_major": 2,
       "version_minor": 0
      },
      "text/plain": [
       "VBox(children=(FloatSlider(value=3.0, description='Rooms', max=10.0, min=1.0, step=0.5), IntSlider(value=5, de…"
      ]
     },
     "execution_count": 20,
     "metadata": {},
     "output_type": "execute_result"
    }
   ],
   "source": [
    "import ipywidgets as widgets\n",
    "import pandas as pd\n",
    "import joblib\n",
    "import requests\n",
    "\n",
    "# Load your pre-trained random forest model\n",
    "model = joblib.load('randomforest.joblib')\n",
    "\n",
    "# Create input widgets\n",
    "num_rooms = widgets.FloatSlider(description='Rooms', min=1, max=10, step=0.5, value=3)\n",
    "floor = widgets.IntSlider(description='Floor', min=0, max=20, value=5)\n",
    "living_space = widgets.IntSlider(description='Living Space (sqft)', min=10, max=500, value=100)\n",
    "street_input = widgets.Text(description='Street Name')\n",
    "city_input = widgets.Text(description='City')\n",
    "postal_code_input = widgets.Text(description='Postal Code')\n",
    "\n",
    "# Create OK button\n",
    "ok_button = widgets.Button(description='OK')\n",
    "\n",
    "# Function to geocode address using API\n",
    "def geocode_address(street, city, postal_code):\n",
    "    url = f\"https://nominatim.openstreetmap.org/search?street={street}&city={city}&postalcode={postal_code}&country=Switzerland&format=json\"\n",
    "    response = requests.get(url)\n",
    "    data = response.json()\n",
    "    if data:\n",
    "        latitude = data[0]['lat']\n",
    "        longitude = data[0]['lon']\n",
    "        return latitude, longitude\n",
    "    else:\n",
    "        return None, None\n",
    "\n",
    "def predict_price(button):\n",
    "    # Get user inputs\n",
    "    latitude, longitude = geocode_address(street_input.value, city_input.value, postal_code_input.value)\n",
    "    if latitude is None or longitude is None:\n",
    "        print(\"Unable to geocode address.\")\n",
    "        return\n",
    "    features = pd.DataFrame({\n",
    "        'Rooms': [num_rooms.value],\n",
    "        'Floor': [floor.value],\n",
    "        'Living Space (sqft)': [living_space.value],\n",
    "        'Latitude': [latitude],\n",
    "        'Longitude': [longitude],\n",
    "        'PostalCode': [postal_code_input.value], \n",
    "    })\n",
    "    \n",
    "    # Predict price\n",
    "    predicted_price = model.predict(features.values)[0]\n",
    "\n",
    "    # Display predicted price\n",
    "    with price_output:\n",
    "        print(f'Predicted Price: CHF {predicted_price:.2f}')\n",
    "\n",
    "# Attach event handler to OK button\n",
    "ok_button.on_click(predict_price)\n",
    "\n",
    "# Create output widget for displaying predicted price\n",
    "price_output = widgets.Output()\n",
    "\n",
    "# Display widgets\n",
    "widgets.VBox([num_rooms, floor, living_space, street_input, city_input, postal_code_input, ok_button, price_output])"
   ]
  }
 ],
 "metadata": {
  "kernelspec": {
   "display_name": "adspenv",
   "language": "python",
   "name": "python3"
  },
  "language_info": {
   "codemirror_mode": {
    "name": "ipython",
    "version": 3
   },
   "file_extension": ".py",
   "mimetype": "text/x-python",
   "name": "python",
   "nbconvert_exporter": "python",
   "pygments_lexer": "ipython3",
   "version": "3.11.8"
  }
 },
 "nbformat": 4,
 "nbformat_minor": 2
}
