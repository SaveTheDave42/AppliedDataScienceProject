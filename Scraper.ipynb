{
 "cells": [
  {
   "cell_type": "markdown",
   "metadata": {},
   "source": [
    "Libraries"
   ]
  },
  {
   "cell_type": "code",
   "execution_count": 88,
   "metadata": {},
   "outputs": [],
   "source": [
    "import asyncio\n",
    "import json\n",
    "import pandas as pd\n",
    "from typing import List, Dict, Literal\n",
    "from httpx import AsyncClient, Response\n",
    "from parsel import Selector\n",
    "import mysql.connector\n",
    "import numpy as np"
   ]
  },
  {
   "cell_type": "markdown",
   "metadata": {},
   "source": [
    "Define cities to scrape"
   ]
  },
  {
   "cell_type": "code",
   "execution_count": 89,
   "metadata": {},
   "outputs": [
    {
     "data": {
      "text/plain": [
       "'\\ncities_to_scrape = [\\n    \"Zurich\", \"Geneva\", \"Basel\", \"Lausanne\", \"Bern\", \"Winterthur\", \"Lucerne\", \"St-Gallen\", \"Lugano\", \"Biel\", \"Interlaken\",\\n    \"Thun\", \"Koeniz\", \"La-Chaux-de-Fonds\", \"Schaffhausen\", \"Fribourg\", \"Vernier\", \"Chur\", \"Neuchatel\", \"Uster\", \"Sion\",\\n    \"Lancy\", \"Emmen\", \"Yverdon-les-Bains\", \"Zug\", \"Kriens\", \"Rapperswil-Jona\", \"Duebendorf\", \"Montreux\", \"Frauenfeld\", \"Carouge\",\\n    \"Wetzikon\", \"Wil\", \"Renens\", \"Herisau\", \"Bellinzona\", \"Kloten\", \"Pratteln\", \"Allschwil\", \"Vevey\", \"Meyrin\", \"Monthey\",\\n    \"Onex\", \"Zollikon\", \"Waedenswil\", \"Kuesnacht\", \"Baden\", \"Weinfelden\", \"Sierre\", \"Le Locle\", \"Littau\", \"Morges\", \"Val-de-Travers\",\\n    \"Pully\", \"Seebach\", \"Ecublens\", \"Wettingen\", \"Adliswil\", \"Oberwil\", \"Nyon\", \"Ittigen\", \"Burgdorf\", \"Le-Grand-Saconnex\",\\n    \"Baar\", \"Muttenz\", \"Martigny\", \"Grenchen\", \"Buelach\", \"Rueti\", \"Thalwil\", \"Regensdorf\", \"Sierre\", \"Gossau\", \"Ascona\",\\n    \"Olten\", \"Aarau\", \"Horgen\", \"Schlieren\", \"Opfikon\", \"Sitten\", \"Liestal\", \"Chene-Bougeries\", \"Plan-les-Ouates\", \"Mendrisio\",\\n    \"Renens\", \"Langenthal\", \"Kreuzlingen\", \"Wohlen\", \"Steffisburg\", \"Moehlin\", \"Binningen\", \"Volketswil\", \"Locarno\"\\n]\\n'"
      ]
     },
     "execution_count": 89,
     "metadata": {},
     "output_type": "execute_result"
    }
   ],
   "source": [
    "cities_to_scrape = [\n",
    "    \"Geneva\"\n",
    "]\n",
    "\n",
    "\"\"\"\n",
    "cities_to_scrape = [\n",
    "    \"Zurich\", \"Geneva\", \"Basel\", \"Lausanne\", \"Bern\", \"Winterthur\", \"Lucerne\", \"St-Gallen\", \"Lugano\", \"Biel\", \"Interlaken\",\n",
    "    \"Thun\", \"Koeniz\", \"La-Chaux-de-Fonds\", \"Schaffhausen\", \"Fribourg\", \"Vernier\", \"Chur\", \"Neuchatel\", \"Uster\", \"Sion\",\n",
    "    \"Lancy\", \"Emmen\", \"Yverdon-les-Bains\", \"Zug\", \"Kriens\", \"Rapperswil-Jona\", \"Duebendorf\", \"Montreux\", \"Frauenfeld\", \"Carouge\",\n",
    "    \"Wetzikon\", \"Wil\", \"Renens\", \"Herisau\", \"Bellinzona\", \"Kloten\", \"Pratteln\", \"Allschwil\", \"Vevey\", \"Meyrin\", \"Monthey\",\n",
    "    \"Onex\", \"Zollikon\", \"Waedenswil\", \"Kuesnacht\", \"Baden\", \"Weinfelden\", \"Sierre\", \"Le Locle\", \"Littau\", \"Morges\", \"Val-de-Travers\",\n",
    "    \"Pully\", \"Seebach\", \"Ecublens\", \"Wettingen\", \"Adliswil\", \"Oberwil\", \"Nyon\", \"Ittigen\", \"Burgdorf\", \"Le-Grand-Saconnex\",\n",
    "    \"Baar\", \"Muttenz\", \"Martigny\", \"Grenchen\", \"Buelach\", \"Rueti\", \"Thalwil\", \"Regensdorf\", \"Sierre\", \"Gossau\", \"Ascona\",\n",
    "    \"Olten\", \"Aarau\", \"Horgen\", \"Schlieren\", \"Opfikon\", \"Sitten\", \"Liestal\", \"Chene-Bougeries\", \"Plan-les-Ouates\", \"Mendrisio\",\n",
    "    \"Renens\", \"Langenthal\", \"Kreuzlingen\", \"Wohlen\", \"Steffisburg\", \"Moehlin\", \"Binningen\", \"Volketswil\", \"Locarno\"\n",
    "]\n",
    "\"\"\""
   ]
  },
  {
   "cell_type": "markdown",
   "metadata": {},
   "source": [
    "Create async client instance and set headers"
   ]
  },
  {
   "cell_type": "code",
   "execution_count": 90,
   "metadata": {},
   "outputs": [],
   "source": [
    "client = AsyncClient(\n",
    "    headers={\n",
    "        \"User-Agent\": \"Mozilla/5.0 (Macintosh; Intel Mac OS X 10_15_7) AppleWebKit/537.36 (KHTML, like Gecko) Chrome/91.0.4472.114 Safari/537.36\",\n",
    "        \"Accept\": \"text/html,application/xhtml+xml,application/xml;q=0.9,image/avif,image/webp,image/apng,*/*;q=0.8,application/signed-exchange;v=b3;q=0.9\",\n",
    "        \"Accept-Language\": \"en-US,en;q=0.9\",\n",
    "    }\n",
    ")"
   ]
  },
  {
   "cell_type": "markdown",
   "metadata": {},
   "source": [
    "Parse listing function"
   ]
  },
  {
   "cell_type": "code",
   "execution_count": 91,
   "metadata": {},
   "outputs": [],
   "source": [
    "def parse_next_data(response: Response) -> Dict:\n",
    "    \"\"\"Parse listing data from homegate search\"\"\"\n",
    "    selector = Selector(response.text)\n",
    "    next_data = selector.xpath(\"//script[contains(text(),'window.__INITIAL_STATE__')]/text()\").get()\n",
    "    if not next_data:\n",
    "        return {}\n",
    "    next_data_json = json.loads(next_data.strip(\"window.__INITIAL_STATE__=\"))\n",
    "    return next_data_json"
   ]
  },
  {
   "cell_type": "markdown",
   "metadata": {},
   "source": [
    "Scrape search function"
   ]
  },
  {
   "cell_type": "code",
   "execution_count": 92,
   "metadata": {},
   "outputs": [],
   "source": [
    "async def scrape_search(city: str, query_type: Literal[\"rent\", \"buy\"] = \"buy\") -> List[Dict]:\n",
    "    \"\"\"Scrape listing data from homegate search pages for a specific city\"\"\"\n",
    "    url = f\"https://www.homegate.ch/{query_type}/real-estate/city-{city}/matching-list\"\n",
    "    first_page = await client.get(url)\n",
    "    data = parse_next_data(first_page)[\"resultList\"][\"search\"][\"fullSearch\"][\"result\"]\n",
    "    if data is None:\n",
    "        print(f\"No data found for {city}\")\n",
    "        return []\n",
    "    search_data = data[\"listings\"]\n",
    "    max_search_pages = data[\"pageCount\"]\n",
    "    print(f\"Scraped first search page for {city}, remaining ({max_search_pages} search pages)\")\n",
    "    other_pages = [client.get(url=str(first_page.url) + f\"?ep={page}\") for page in range(2, max_search_pages + 1)]\n",
    "    for response in asyncio.as_completed(other_pages):\n",
    "        data = parse_next_data(await response)\n",
    "        if data is not None:\n",
    "            search_data.extend(data[\"resultList\"][\"search\"][\"fullSearch\"][\"result\"][\"listings\"])\n",
    "            print(f\"Scraped {len(search_data)} property listings from {city} search\")\n",
    "        await asyncio.sleep(5)  # delay\n",
    "    return search_data"
   ]
  },
  {
   "cell_type": "markdown",
   "metadata": {},
   "source": [
    "Main function"
   ]
  },
  {
   "cell_type": "code",
   "execution_count": 93,
   "metadata": {},
   "outputs": [],
   "source": [
    "async def main():\n",
    "    all_search_data = []\n",
    "    for city in cities_to_scrape:\n",
    "        city_search_data = await scrape_search(city, query_type=\"buy\")\n",
    "        all_search_data.extend(city_search_data)\n",
    "    \n",
    "    # Close client\n",
    "    await client.aclose()\n",
    "\n",
    "    json_string = json.dumps(all_search_data, indent=2)\n",
    "    json_data = json.loads(json_string)\n",
    "\n",
    "    # Specify the columns to include in the DataFrame\n",
    "    columns = ['id', 'listing']\n",
    "\n",
    "    # Extract the 'listing' data\n",
    "    listing_data = [item['listing'] for item in json_data]\n",
    "\n",
    "    # Extract the 'prices' data\n",
    "    prices_data = [{'id': item['id'], **item['listing']['prices']['buy'], **item['listing']['address'], **(item['listing']['characteristics'] if 'characteristics' in item['listing'] else {}), **item['listing']['address']['geoCoordinates']} for item in json_data if 'prices' in item['listing'] and 'buy' in item['listing']['prices']]\n",
    "\n",
    "    # Create the DataFrame\n",
    "    df = pd.DataFrame(listing_data)\n",
    "    # Create the DataFrame\n",
    "    df_prices = pd.DataFrame(prices_data)\n",
    "    # Replace 'NaN' values with None\n",
    "    df_prices = df_prices.replace({np.nan: None})\n",
    "\n",
    "    # Set the index of the DataFrame to the 'id' column\n",
    "    df.set_index('id', inplace=True)\n",
    "    # print(df_prices)\n",
    "\n",
    "    #Write data to database\n",
    "    # Create a connection to the database\n",
    "    db = mysql.connector.connect(\n",
    "        host=\"localhost\",\n",
    "        user=\"user\",\n",
    "        password=\"password\",\n",
    "        port=\"3306\",\n",
    "        database=\"realestatepredictor\"\n",
    "    )\n",
    "\n",
    "    # Create a cursor object\n",
    "    cursor = db.cursor()\n",
    "\n",
    "    # Convert the DataFrame to a list of dictionaries\n",
    "    data_dict = df_prices.to_dict('records')\n",
    "\n",
    "    # Clear the table before inserting the new data. Uncomment code below to clear the table before inserting new data\n",
    "    # cursor.execute(\"DELETE FROM homegate\")\n",
    "    # db.commit()\n",
    "    # print(\"All entries deleted from 'homegate'.\")\n",
    "\n",
    "    # Iterate over the list of dictionaries and insert each one into the MySQL table\n",
    "    for data in data_dict:\n",
    "        query = \"INSERT INTO homegate (homegateid, price, rooms, floor, livingSpace, street, latitude, longitude, locality, postalcode) VALUES (%s, %s, %s, %s, %s, %s, %s, %s, %s, %s)\"\n",
    "        values = (data['id'], data['price'], data['numberOfRooms'], data['floor'], data['livingSpace'], data['street'], data['latitude'], data['longitude'], data['locality'], data['postalCode'])\n",
    "        cursor.execute(query, values)\n",
    "\n",
    "    # Commit the transaction\n",
    "    db.commit()\n",
    "\n",
    "    # Close the cursor and connection\n",
    "    cursor.close()\n",
    "    db.close()"
   ]
  },
  {
   "cell_type": "markdown",
   "metadata": {},
   "source": [
    "Run main function"
   ]
  },
  {
   "cell_type": "code",
   "execution_count": 94,
   "metadata": {},
   "outputs": [
    {
     "name": "stdout",
     "output_type": "stream",
     "text": [
      "Scraped first search page for Geneva, remaining (18 search pages)\n",
      "Scraped 30 property listings from Geneva search\n",
      "Scraped 50 property listings from Geneva search\n",
      "Scraped 70 property listings from Geneva search\n",
      "Scraped 90 property listings from Geneva search\n",
      "Scraped 110 property listings from Geneva search\n",
      "Scraped 130 property listings from Geneva search\n",
      "Scraped 150 property listings from Geneva search\n",
      "Scraped 170 property listings from Geneva search\n",
      "Scraped 190 property listings from Geneva search\n",
      "Scraped 210 property listings from Geneva search\n",
      "Scraped 230 property listings from Geneva search\n",
      "Scraped 250 property listings from Geneva search\n",
      "Scraped 270 property listings from Geneva search\n",
      "Scraped 290 property listings from Geneva search\n",
      "Scraped 310 property listings from Geneva search\n",
      "Scraped 330 property listings from Geneva search\n",
      "Scraped 350 property listings from Geneva search\n"
     ]
    },
    {
     "ename": "KeyError",
     "evalue": "'prices'",
     "output_type": "error",
     "traceback": [
      "\u001b[1;31m---------------------------------------------------------------------------\u001b[0m",
      "\u001b[1;31mKeyError\u001b[0m                                  Traceback (most recent call last)",
      "Cell \u001b[1;32mIn[94], line 3\u001b[0m\n\u001b[0;32m      1\u001b[0m \u001b[38;5;28;01mif\u001b[39;00m \u001b[38;5;18m__name__\u001b[39m \u001b[38;5;241m==\u001b[39m \u001b[38;5;124m\"\u001b[39m\u001b[38;5;124m__main__\u001b[39m\u001b[38;5;124m\"\u001b[39m:\n\u001b[0;32m      2\u001b[0m     \u001b[38;5;66;03m# asyncio.run(main())\u001b[39;00m\n\u001b[1;32m----> 3\u001b[0m     \u001b[38;5;28;01mawait\u001b[39;00m main()\n",
      "Cell \u001b[1;32mIn[93], line 20\u001b[0m, in \u001b[0;36mmain\u001b[1;34m()\u001b[0m\n\u001b[0;32m     17\u001b[0m listing_data \u001b[38;5;241m=\u001b[39m [item[\u001b[38;5;124m'\u001b[39m\u001b[38;5;124mlisting\u001b[39m\u001b[38;5;124m'\u001b[39m] \u001b[38;5;28;01mfor\u001b[39;00m item \u001b[38;5;129;01min\u001b[39;00m json_data]\n\u001b[0;32m     19\u001b[0m \u001b[38;5;66;03m# Extract the 'prices' data\u001b[39;00m\n\u001b[1;32m---> 20\u001b[0m prices_data \u001b[38;5;241m=\u001b[39m \u001b[43m[\u001b[49m\u001b[43m{\u001b[49m\u001b[38;5;124;43m'\u001b[39;49m\u001b[38;5;124;43mid\u001b[39;49m\u001b[38;5;124;43m'\u001b[39;49m\u001b[43m:\u001b[49m\u001b[43m \u001b[49m\u001b[43mitem\u001b[49m\u001b[43m[\u001b[49m\u001b[38;5;124;43m'\u001b[39;49m\u001b[38;5;124;43mid\u001b[39;49m\u001b[38;5;124;43m'\u001b[39;49m\u001b[43m]\u001b[49m\u001b[43m,\u001b[49m\u001b[43m \u001b[49m\u001b[38;5;241;43m*\u001b[39;49m\u001b[38;5;241;43m*\u001b[39;49m\u001b[43mitem\u001b[49m\u001b[43m[\u001b[49m\u001b[38;5;124;43m'\u001b[39;49m\u001b[38;5;124;43mlisting\u001b[39;49m\u001b[38;5;124;43m'\u001b[39;49m\u001b[43m]\u001b[49m\u001b[43m[\u001b[49m\u001b[38;5;124;43m'\u001b[39;49m\u001b[38;5;124;43mprices\u001b[39;49m\u001b[38;5;124;43m'\u001b[39;49m\u001b[43m]\u001b[49m\u001b[43m[\u001b[49m\u001b[38;5;124;43m'\u001b[39;49m\u001b[38;5;124;43mbuy\u001b[39;49m\u001b[38;5;124;43m'\u001b[39;49m\u001b[43m]\u001b[49m\u001b[43m,\u001b[49m\u001b[43m \u001b[49m\u001b[38;5;241;43m*\u001b[39;49m\u001b[38;5;241;43m*\u001b[39;49m\u001b[43mitem\u001b[49m\u001b[43m[\u001b[49m\u001b[38;5;124;43m'\u001b[39;49m\u001b[38;5;124;43mlisting\u001b[39;49m\u001b[38;5;124;43m'\u001b[39;49m\u001b[43m]\u001b[49m\u001b[43m[\u001b[49m\u001b[38;5;124;43m'\u001b[39;49m\u001b[38;5;124;43maddress\u001b[39;49m\u001b[38;5;124;43m'\u001b[39;49m\u001b[43m]\u001b[49m\u001b[43m,\u001b[49m\u001b[43m \u001b[49m\u001b[38;5;241;43m*\u001b[39;49m\u001b[38;5;241;43m*\u001b[39;49m\u001b[43m(\u001b[49m\u001b[43mitem\u001b[49m\u001b[43m[\u001b[49m\u001b[38;5;124;43m'\u001b[39;49m\u001b[38;5;124;43mlisting\u001b[39;49m\u001b[38;5;124;43m'\u001b[39;49m\u001b[43m]\u001b[49m\u001b[43m[\u001b[49m\u001b[38;5;124;43m'\u001b[39;49m\u001b[38;5;124;43mcharacteristics\u001b[39;49m\u001b[38;5;124;43m'\u001b[39;49m\u001b[43m]\u001b[49m\u001b[43m \u001b[49m\u001b[38;5;28;43;01mif\u001b[39;49;00m\u001b[43m \u001b[49m\u001b[38;5;124;43m'\u001b[39;49m\u001b[38;5;124;43mcharacteristics\u001b[39;49m\u001b[38;5;124;43m'\u001b[39;49m\u001b[43m \u001b[49m\u001b[38;5;129;43;01min\u001b[39;49;00m\u001b[43m \u001b[49m\u001b[43mitem\u001b[49m\u001b[43m[\u001b[49m\u001b[38;5;124;43m'\u001b[39;49m\u001b[38;5;124;43mlisting\u001b[39;49m\u001b[38;5;124;43m'\u001b[39;49m\u001b[43m]\u001b[49m\u001b[43m \u001b[49m\u001b[38;5;28;43;01melse\u001b[39;49;00m\u001b[43m \u001b[49m\u001b[43m{\u001b[49m\u001b[43m}\u001b[49m\u001b[43m)\u001b[49m\u001b[43m,\u001b[49m\u001b[43m \u001b[49m\u001b[38;5;241;43m*\u001b[39;49m\u001b[38;5;241;43m*\u001b[39;49m\u001b[43mitem\u001b[49m\u001b[43m[\u001b[49m\u001b[38;5;124;43m'\u001b[39;49m\u001b[38;5;124;43mlisting\u001b[39;49m\u001b[38;5;124;43m'\u001b[39;49m\u001b[43m]\u001b[49m\u001b[43m[\u001b[49m\u001b[38;5;124;43m'\u001b[39;49m\u001b[38;5;124;43maddress\u001b[39;49m\u001b[38;5;124;43m'\u001b[39;49m\u001b[43m]\u001b[49m\u001b[43m[\u001b[49m\u001b[38;5;124;43m'\u001b[39;49m\u001b[38;5;124;43mgeoCoordinates\u001b[39;49m\u001b[38;5;124;43m'\u001b[39;49m\u001b[43m]\u001b[49m\u001b[43m}\u001b[49m\u001b[43m \u001b[49m\u001b[38;5;28;43;01mfor\u001b[39;49;00m\u001b[43m \u001b[49m\u001b[43mitem\u001b[49m\u001b[43m \u001b[49m\u001b[38;5;129;43;01min\u001b[39;49;00m\u001b[43m \u001b[49m\u001b[43mjson_data\u001b[49m\u001b[43m]\u001b[49m\n\u001b[0;32m     22\u001b[0m \u001b[38;5;66;03m# Create the DataFrame\u001b[39;00m\n\u001b[0;32m     23\u001b[0m df \u001b[38;5;241m=\u001b[39m pd\u001b[38;5;241m.\u001b[39mDataFrame(listing_data)\n",
      "Cell \u001b[1;32mIn[93], line 20\u001b[0m, in \u001b[0;36m<listcomp>\u001b[1;34m(.0)\u001b[0m\n\u001b[0;32m     17\u001b[0m listing_data \u001b[38;5;241m=\u001b[39m [item[\u001b[38;5;124m'\u001b[39m\u001b[38;5;124mlisting\u001b[39m\u001b[38;5;124m'\u001b[39m] \u001b[38;5;28;01mfor\u001b[39;00m item \u001b[38;5;129;01min\u001b[39;00m json_data]\n\u001b[0;32m     19\u001b[0m \u001b[38;5;66;03m# Extract the 'prices' data\u001b[39;00m\n\u001b[1;32m---> 20\u001b[0m prices_data \u001b[38;5;241m=\u001b[39m [{\u001b[38;5;124m'\u001b[39m\u001b[38;5;124mid\u001b[39m\u001b[38;5;124m'\u001b[39m: item[\u001b[38;5;124m'\u001b[39m\u001b[38;5;124mid\u001b[39m\u001b[38;5;124m'\u001b[39m], \u001b[38;5;241m*\u001b[39m\u001b[38;5;241m*\u001b[39m\u001b[43mitem\u001b[49m\u001b[43m[\u001b[49m\u001b[38;5;124;43m'\u001b[39;49m\u001b[38;5;124;43mlisting\u001b[39;49m\u001b[38;5;124;43m'\u001b[39;49m\u001b[43m]\u001b[49m\u001b[43m[\u001b[49m\u001b[38;5;124;43m'\u001b[39;49m\u001b[38;5;124;43mprices\u001b[39;49m\u001b[38;5;124;43m'\u001b[39;49m\u001b[43m]\u001b[49m[\u001b[38;5;124m'\u001b[39m\u001b[38;5;124mbuy\u001b[39m\u001b[38;5;124m'\u001b[39m], \u001b[38;5;241m*\u001b[39m\u001b[38;5;241m*\u001b[39mitem[\u001b[38;5;124m'\u001b[39m\u001b[38;5;124mlisting\u001b[39m\u001b[38;5;124m'\u001b[39m][\u001b[38;5;124m'\u001b[39m\u001b[38;5;124maddress\u001b[39m\u001b[38;5;124m'\u001b[39m], \u001b[38;5;241m*\u001b[39m\u001b[38;5;241m*\u001b[39m(item[\u001b[38;5;124m'\u001b[39m\u001b[38;5;124mlisting\u001b[39m\u001b[38;5;124m'\u001b[39m][\u001b[38;5;124m'\u001b[39m\u001b[38;5;124mcharacteristics\u001b[39m\u001b[38;5;124m'\u001b[39m] \u001b[38;5;28;01mif\u001b[39;00m \u001b[38;5;124m'\u001b[39m\u001b[38;5;124mcharacteristics\u001b[39m\u001b[38;5;124m'\u001b[39m \u001b[38;5;129;01min\u001b[39;00m item[\u001b[38;5;124m'\u001b[39m\u001b[38;5;124mlisting\u001b[39m\u001b[38;5;124m'\u001b[39m] \u001b[38;5;28;01melse\u001b[39;00m {}), \u001b[38;5;241m*\u001b[39m\u001b[38;5;241m*\u001b[39mitem[\u001b[38;5;124m'\u001b[39m\u001b[38;5;124mlisting\u001b[39m\u001b[38;5;124m'\u001b[39m][\u001b[38;5;124m'\u001b[39m\u001b[38;5;124maddress\u001b[39m\u001b[38;5;124m'\u001b[39m][\u001b[38;5;124m'\u001b[39m\u001b[38;5;124mgeoCoordinates\u001b[39m\u001b[38;5;124m'\u001b[39m]} \u001b[38;5;28;01mfor\u001b[39;00m item \u001b[38;5;129;01min\u001b[39;00m json_data]\n\u001b[0;32m     22\u001b[0m \u001b[38;5;66;03m# Create the DataFrame\u001b[39;00m\n\u001b[0;32m     23\u001b[0m df \u001b[38;5;241m=\u001b[39m pd\u001b[38;5;241m.\u001b[39mDataFrame(listing_data)\n",
      "\u001b[1;31mKeyError\u001b[0m: 'prices'"
     ]
    }
   ],
   "source": [
    "if __name__ == \"__main__\":\n",
    "    # asyncio.run(main())\n",
    "    await main()"
   ]
  }
 ],
 "metadata": {
  "kernelspec": {
   "display_name": "adspenv",
   "language": "python",
   "name": "python3"
  },
  "language_info": {
   "codemirror_mode": {
    "name": "ipython",
    "version": 3
   },
   "file_extension": ".py",
   "mimetype": "text/x-python",
   "name": "python",
   "nbconvert_exporter": "python",
   "pygments_lexer": "ipython3",
   "version": "3.11.8"
  }
 },
 "nbformat": 4,
 "nbformat_minor": 2
}
