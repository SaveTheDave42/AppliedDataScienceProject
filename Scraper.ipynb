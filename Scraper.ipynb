{
 "cells": [
  {
   "cell_type": "markdown",
   "metadata": {},
   "source": [
    "Libraries"
   ]
  },
  {
   "cell_type": "code",
   "execution_count": null,
   "metadata": {},
   "outputs": [],
   "source": [
    "import asyncio\n",
    "import json\n",
    "import pandas as pd\n",
    "from typing import List, Dict, Literal\n",
    "from httpx import AsyncClient, Response\n",
    "from parsel import Selector\n",
    "import mysql.connector\n",
    "import numpy as np"
   ]
  },
  {
   "cell_type": "markdown",
   "metadata": {},
   "source": [
    "Select cities"
   ]
  },
  {
   "cell_type": "code",
   "execution_count": null,
   "metadata": {},
   "outputs": [],
   "source": [
    "# Add cities to scrape\n",
    "cities_to_scrape = [\"zurich\", \"winterthur\", \"uster\", \"dubendorf\", \"dietlikon\", \"bulach\", \"horgen\", \"schlieren\", \"opfikon\", \"kloten\", \"volketswil\"] "
   ]
  },
  {
   "cell_type": "markdown",
   "metadata": {},
   "source": [
    "Create async client instance and set headers"
   ]
  },
  {
   "cell_type": "code",
   "execution_count": null,
   "metadata": {},
   "outputs": [],
   "source": [
    "client = AsyncClient(\n",
    "    headers={\n",
    "        \"User-Agent\": \"Mozilla/5.0 (Macintosh; Intel Mac OS X 10_15_7) AppleWebKit/537.36 (KHTML, like Gecko) Chrome/91.0.4472.114 Safari/537.36\",\n",
    "        \"Accept\": \"text/html,application/xhtml+xml,application/xml;q=0.9,image/avif,image/webp,image/apng,*/*;q=0.8,application/signed-exchange;v=b3;q=0.9\",\n",
    "        \"Accept-Language\": \"en-US,en;q=0.9\",\n",
    "    }\n",
    ")"
   ]
  },
  {
   "cell_type": "markdown",
   "metadata": {},
   "source": [
    "Parse listing function"
   ]
  },
  {
   "cell_type": "code",
   "execution_count": null,
   "metadata": {},
   "outputs": [],
   "source": [
    "def parse_next_data(response: Response) -> Dict:\n",
    "    \"\"\"Parse listing data from homegate search\"\"\"\n",
    "    selector = Selector(response.text)\n",
    "    next_data = selector.xpath(\"//script[contains(text(),'window.__INITIAL_STATE__')]/text()\").get()\n",
    "    if not next_data:\n",
    "        return {}\n",
    "    next_data_json = json.loads(next_data.strip(\"window.__INITIAL_STATE__=\"))\n",
    "    return next_data_json"
   ]
  },
  {
   "cell_type": "markdown",
   "metadata": {},
   "source": [
    "Scrape search function"
   ]
  },
  {
   "cell_type": "code",
   "execution_count": null,
   "metadata": {},
   "outputs": [],
   "source": [
    "async def scrape_search(city: str, query_type: Literal[\"rent\", \"buy\"] = \"buy\") -> List[Dict]:\n",
    "    \"\"\"Scrape listing data from homegate search pages for a specific city\"\"\"\n",
    "    url = f\"https://www.homegate.ch/{query_type}/real-estate/city-{city}/matching-list\"\n",
    "    first_page = await client.get(url)\n",
    "    data = parse_next_data(first_page)[\"resultList\"][\"search\"][\"fullSearch\"][\"result\"]\n",
    "    search_data = data[\"listings\"]\n",
    "    max_search_pages = data[\"pageCount\"]\n",
    "    print(f\"Scraped first search page for {city}, remaining ({max_search_pages} search pages)\")\n",
    "    other_pages = [client.get(url=str(first_page.url) + f\"?ep={page}\") for page in range(2, max_search_pages + 1)]\n",
    "    for response in asyncio.as_completed(other_pages):\n",
    "        data = parse_next_data(await response)\n",
    "        search_data.extend(data[\"resultList\"][\"search\"][\"fullSearch\"][\"result\"][\"listings\"])\n",
    "        print(f\"Scraped {len(search_data)} property listings from {city} search\")\n",
    "        await asyncio.sleep(60)  # delay\n",
    "    return search_data"
   ]
  },
  {
   "cell_type": "markdown",
   "metadata": {},
   "source": [
    "Main function"
   ]
  },
  {
   "cell_type": "code",
   "execution_count": null,
   "metadata": {},
   "outputs": [],
   "source": [
    "async def main():\n",
    "    all_search_data = []\n",
    "    for city in cities_to_scrape:\n",
    "        city_search_data = await scrape_search(city, query_type=\"buy\")\n",
    "        all_search_data.extend(city_search_data)\n",
    "    \n",
    "    # Close client\n",
    "    await client.aclose()\n",
    "\n",
    "    json_string = json.dumps(all_search_data, indent=2)\n",
    "    json_data = json.loads(json_string)\n",
    "\n",
    "    # Specify the columns to include in the DataFrame\n",
    "    columns = ['id', 'listing']\n",
    "\n",
    "    # Extract the 'listing' data\n",
    "    listing_data = [item['listing'] for item in json_data]\n",
    "\n",
    "    # Extract the 'prices' data\n",
    "    prices_data = [{'id': item['id'], **item['listing']['prices']['buy'], **item['listing']['address'], **item['listing']['characteristics'], **item['listing']['address']['geoCoordinates']} for item in json_data]\n",
    "\n",
    "    # Create the DataFrame\n",
    "    df = pd.DataFrame(listing_data)\n",
    "    # Create the DataFrame\n",
    "    df_prices = pd.DataFrame(prices_data)\n",
    "    # Replace 'NaN' values with None\n",
    "    df_prices = df_prices.replace({np.nan: None})\n",
    "\n",
    "    # Set the index of the DataFrame to the 'id' column\n",
    "    df.set_index('id', inplace=True)\n",
    "    # print(df_prices)\n",
    "\n",
    "    #Write data to database\n",
    "    # Create a connection to the database\n",
    "    db = mysql.connector.connect(\n",
    "        host=\"localhost\",\n",
    "        user=\"user\",\n",
    "        password=\"password\",\n",
    "        port=\"3306\",\n",
    "        database=\"realestatepredictor\"\n",
    "    )\n",
    "\n",
    "    # Create a cursor object\n",
    "    cursor = db.cursor()\n",
    "\n",
    "    # Convert the DataFrame to a list of dictionaries\n",
    "    data_dict = df_prices.to_dict('records')\n",
    "\n",
    "    # Clear the table before inserting the new data\n",
    "    cursor.execute(\"DELETE FROM homegate\")\n",
    "    db.commit()\n",
    "    print(\"All entries deleted from 'homegate'.\")\n",
    "\n",
    "    # Iterate over the list of dictionaries and insert each one into the MySQL table\n",
    "    for data in data_dict:\n",
    "        query = \"INSERT INTO homegate (homegateid, price, rooms, floor, livingSpace, street, latitude, longitude, locality, postalcode) VALUES (%s, %s, %s, %s, %s, %s, %s, %s, %s, %s)\"\n",
    "        values = (data['id'], data['price'], data['numberOfRooms'], data['floor'], data['livingSpace'], data['street'], data['latitude'], data['longitude'], data['locality'], data['postalCode'])\n",
    "        cursor.execute(query, values)\n",
    "\n",
    "    # Commit the transaction\n",
    "    db.commit()\n",
    "\n",
    "    # Close the cursor and connection\n",
    "    cursor.close()\n",
    "    db.close()\n"
   ]
  },
  {
   "cell_type": "markdown",
   "metadata": {},
   "source": [
    "Run main function"
   ]
  },
  {
   "cell_type": "code",
   "execution_count": null,
   "metadata": {},
   "outputs": [],
   "source": [
    "if __name__ == \"__main__\":\n",
    "    asyncio.run(main())"
   ]
  }
 ],
 "metadata": {
  "language_info": {
   "name": "python"
  }
 },
 "nbformat": 4,
 "nbformat_minor": 2
}
