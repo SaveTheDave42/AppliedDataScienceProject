{
 "cells": [
  {
   "cell_type": "markdown",
   "metadata": {},
   "source": [
    "### Libraries"
   ]
  },
  {
   "cell_type": "code",
   "execution_count": 1,
   "metadata": {},
   "outputs": [],
   "source": [
    "# General\n",
    "import os\n",
    "import time\n",
    "import csv\n",
    "import re\n",
    "import random\n",
    "import json\n",
    "\n",
    "# Database Connection\n",
    "import mysql.connector\n",
    "\n",
    "# Data Analysis and scraping\n",
    "# import pandas as pd\n",
    "# from bs4 import BeautifulSoup\n",
    "# from selenium import webdriver\n",
    "# from selenium.webdriver.chrome.service import Service\n",
    "# from webdriver_manager.chrome import ChromeDriverManager\n",
    "import asyncio\n",
    "from typing import List, Dict, Literal\n",
    "from httpx import AsyncClient, Response\n",
    "from parsel import Selector"
   ]
  },
  {
   "cell_type": "markdown",
   "metadata": {},
   "source": [
    "### Prepare Database"
   ]
  },
  {
   "cell_type": "code",
   "execution_count": 3,
   "metadata": {},
   "outputs": [
    {
     "name": "stdout",
     "output_type": "stream",
     "text": [
      "Table homegate does not exist. Setting up table.\n"
     ]
    }
   ],
   "source": [
    "#Connect to the database\n",
    "db = mysql.connector.connect(\n",
    "    host=\"localhost\",\n",
    "    user=\"user\",\n",
    "    password=\"password\",\n",
    "    port=\"3306\",\n",
    "    database=\"realestatepredictor\"\n",
    ")\n",
    "\n",
    "#Check if the table homegate exists. Set up the table if it does not exist\n",
    "mycursor = db.cursor()\n",
    "mycursor.execute(\"SHOW TABLES\")\n",
    "tables = mycursor.fetchall()\n",
    "if ('homegate',) in tables:\n",
    "    print(\"Table homegate exists\")\n",
    "else:\n",
    "    print(\"Table homegate does not exist. Setting up table.\")\n",
    "    mycursor.execute(\"CREATE TABLE homegate (id INT AUTO_INCREMENT PRIMARY KEY, homegateid VARCHAR(255), price FLOAT, rooms FLOAT, floor INT, livingSpace FLOAT, street VARCHAR(255), latitude FLOAT, longitude FLOAT, locality VARCHAR(255), postalcode INT)\")"
   ]
  },
  {
   "cell_type": "markdown",
   "metadata": {},
   "source": [
    "### Scrape Homegate"
   ]
  },
  {
   "cell_type": "code",
   "execution_count": 6,
   "metadata": {},
   "outputs": [
    {
     "ename": "RuntimeError",
     "evalue": "asyncio.run() cannot be called from a running event loop",
     "output_type": "error",
     "traceback": [
      "\u001b[1;31m---------------------------------------------------------------------------\u001b[0m",
      "\u001b[1;31mRuntimeError\u001b[0m                              Traceback (most recent call last)",
      "Cell \u001b[1;32mIn[6], line 42\u001b[0m\n\u001b[0;32m     40\u001b[0m \u001b[38;5;66;03m# run the scraping function\u001b[39;00m\n\u001b[0;32m     41\u001b[0m \u001b[38;5;28;01mif\u001b[39;00m \u001b[38;5;18m__name__\u001b[39m \u001b[38;5;241m==\u001b[39m \u001b[38;5;124m\"\u001b[39m\u001b[38;5;124m__main__\u001b[39m\u001b[38;5;124m\"\u001b[39m:\n\u001b[1;32m---> 42\u001b[0m     search_data \u001b[38;5;241m=\u001b[39m \u001b[43masyncio\u001b[49m\u001b[38;5;241;43m.\u001b[39;49m\u001b[43mrun\u001b[49m\u001b[43m(\u001b[49m\u001b[43mscrape_search\u001b[49m\u001b[43m(\u001b[49m\n\u001b[0;32m     43\u001b[0m \u001b[43m        \u001b[49m\u001b[43mquery_type\u001b[49m\u001b[43m \u001b[49m\u001b[38;5;241;43m=\u001b[39;49m\u001b[43m \u001b[49m\u001b[38;5;124;43m\"\u001b[39;49m\u001b[38;5;124;43mbuy\u001b[39;49m\u001b[38;5;124;43m\"\u001b[39;49m\u001b[43m,\u001b[49m\n\u001b[0;32m     44\u001b[0m \u001b[43m    \u001b[49m\u001b[43m)\u001b[49m\u001b[43m)\u001b[49m\n\u001b[0;32m     45\u001b[0m     \u001b[38;5;66;03m# print(json.dumps(search_data, indent=2))\u001b[39;00m\n",
      "File \u001b[1;32mc:\\Users\\User\\anaconda3\\envs\\adspenv\\Lib\\asyncio\\runners.py:186\u001b[0m, in \u001b[0;36mrun\u001b[1;34m(main, debug)\u001b[0m\n\u001b[0;32m    161\u001b[0m \u001b[38;5;250m\u001b[39m\u001b[38;5;124;03m\"\"\"Execute the coroutine and return the result.\u001b[39;00m\n\u001b[0;32m    162\u001b[0m \n\u001b[0;32m    163\u001b[0m \u001b[38;5;124;03mThis function runs the passed coroutine, taking care of\u001b[39;00m\n\u001b[1;32m   (...)\u001b[0m\n\u001b[0;32m    182\u001b[0m \u001b[38;5;124;03m    asyncio.run(main())\u001b[39;00m\n\u001b[0;32m    183\u001b[0m \u001b[38;5;124;03m\"\"\"\u001b[39;00m\n\u001b[0;32m    184\u001b[0m \u001b[38;5;28;01mif\u001b[39;00m events\u001b[38;5;241m.\u001b[39m_get_running_loop() \u001b[38;5;129;01mis\u001b[39;00m \u001b[38;5;129;01mnot\u001b[39;00m \u001b[38;5;28;01mNone\u001b[39;00m:\n\u001b[0;32m    185\u001b[0m     \u001b[38;5;66;03m# fail fast with short traceback\u001b[39;00m\n\u001b[1;32m--> 186\u001b[0m     \u001b[38;5;28;01mraise\u001b[39;00m \u001b[38;5;167;01mRuntimeError\u001b[39;00m(\n\u001b[0;32m    187\u001b[0m         \u001b[38;5;124m\"\u001b[39m\u001b[38;5;124masyncio.run() cannot be called from a running event loop\u001b[39m\u001b[38;5;124m\"\u001b[39m)\n\u001b[0;32m    189\u001b[0m \u001b[38;5;28;01mwith\u001b[39;00m Runner(debug\u001b[38;5;241m=\u001b[39mdebug) \u001b[38;5;28;01mas\u001b[39;00m runner:\n\u001b[0;32m    190\u001b[0m     \u001b[38;5;28;01mreturn\u001b[39;00m runner\u001b[38;5;241m.\u001b[39mrun(main)\n",
      "\u001b[1;31mRuntimeError\u001b[0m: asyncio.run() cannot be called from a running event loop"
     ]
    }
   ],
   "source": [
    "client = AsyncClient(\n",
    "    headers={\n",
    "        # use same headers as a popular web browser (Chrome on Windows in this case)\n",
    "        \"User-Agent\": \"Mozilla/5.0 (Macintosh; Intel Mac OS X 10_15_7) AppleWebKit/537.36 (KHTML, like Gecko) Chrome/91.0.4472.114 Safari/537.36\",\n",
    "        \"Accept\": \"text/html,application/xhtml+xml,application/xml;q=0.9,image/avif,image/webp,image/apng,*/*;q=0.8,application/signed-exchange;v=b3;q=0.9\",\n",
    "        \"Accept-Language\": \"en-US,en;q=0.9\",\n",
    "    }\n",
    ")\n",
    "\n",
    "def parse_next_data(response: Response) -> Dict:\n",
    "    \"\"\"parse listing data from homegate search\"\"\"\n",
    "    selector = Selector(response.text)\n",
    "    # extract data in JSON from script tags\n",
    "    next_data = selector.xpath(\"//script[contains(text(),'window.__INITIAL_STATE__')]/text()\").get()\n",
    "    if not next_data:\n",
    "        return\n",
    "    next_data_json = json.loads(next_data.strip(\"window.__INITIAL_STATE__=\"))\n",
    "    return next_data_json\n",
    "\n",
    "async def scrape_search(query_type: Literal[\"rent\", \"buy\"] = \"buy\") -> List[Dict]:\n",
    "    \"\"\"scrape listing data from homegate search pages\"\"\"\n",
    "    # change the below URL to the desired search but validate it in the browser first\n",
    "    url = f\"https://www.homegate.ch/{query_type}/real-estate/city-zurich/matching-list\"\n",
    "    # scrape the first search page first\n",
    "    first_page = await client.get(url)\n",
    "    data = parse_next_data(first_page)[\"resultList\"][\"search\"][\"fullSearch\"][\"result\"]\n",
    "    search_data = data[\"listings\"]\n",
    "    # get the number of maximum search pages available\n",
    "    max_search_pages = data[\"pageCount\"]\n",
    "    print(f\"scraped first search page, remaining ({max_search_pages} search pages)\")\n",
    "    # add the remaining search pages in a scraping list\n",
    "    other_pages = [client.get(url=str(first_page.url) + f\"?ep={page}\") for page in range(2, max_search_pages + 1)]\n",
    "    # scrape the remaining search pages concurrently\n",
    "    for response in asyncio.as_completed(other_pages):\n",
    "        data = parse_next_data(await response)\n",
    "        search_data.extend(data[\"resultList\"][\"search\"][\"fullSearch\"][\"result\"][\"listings\"])\n",
    "    print(f\"scraped {len(search_data)} property listings from search\")\n",
    "    return search_data\n",
    "\n",
    "# run the scraping function\n",
    "if __name__ == \"__main__\":\n",
    "    search_data = asyncio.run(scrape_search(\n",
    "        query_type = \"buy\",\n",
    "    ))\n",
    "    # print(json.dumps(search_data, indent=2))"
   ]
  },
  {
   "cell_type": "markdown",
   "metadata": {},
   "source": [
    "### Write scraped data to database"
   ]
  },
  {
   "cell_type": "code",
   "execution_count": null,
   "metadata": {},
   "outputs": [],
   "source": [
    "# Insert data into the database\n",
    "for item in search_data:\n",
    "    id = item.get('id')\n",
    "    livingSpace = item.get('listings', {}).get('characteristics', {}).get('livingSpace')\n",
    "    rooms = item.get('listings', {}).get('characteristics', {}).get('numberOfRooms')\n",
    "    floor = item.get('listings', {}).get('characteristics', {}).get('floor')\n",
    "    prices = item.get('prices', {})\n",
    "    buy = prices.get('buy')\n",
    "    price = buy.get('price') if buy is not None else None\n",
    "    latitude = item.get('listing', {}).get('address', {}).get('geoCoordinates', {}).get('latitude')\n",
    "    longitude = item.get('listing', {}).get('address', {}).get('geoCoordinates', {}).get('longitude')\n",
    "    locality = item.get('listing', {}).get('address', {}).get('locality')\n",
    "    postalCode = item.get('listing', {}).get('address', {}).get('postalCode')\n",
    "    street = item.get('listing', {}).get('address', {}).get('street')\n",
    "\n",
    "    insert_stmt = (\n",
    "        \"INSERT INTO homegate (homegateid, livingSpace, rooms, floor, price, latitude, longitude, locality, postalCode, street) \"\n",
    "        \"VALUES (%s, %s, %s, %s, %s, %s)\"\n",
    "    )\n",
    "    data = (id, livingSpace, rooms, floor, price, latitude, longitude, locality, postalCode, street)\n",
    "    \n",
    "    try:\n",
    "        # Execute the SQL command\n",
    "        mycursor.execute(insert_stmt, data)\n",
    "        # Commit your changes in the database\n",
    "        db.commit()\n",
    "        print(f\"Inserted listing with id: {item.get('id')}\")\n",
    "    except mysql.connector.Error as err:\n",
    "        # Rollback in case there is any error\n",
    "        db.rollback()\n",
    "        print(f\"Failed to insert listing with id: {item.get('id')}. Error: {err}\")\n",
    "\n",
    "# Close the database connection\n",
    "db.close()"
   ]
  }
 ],
 "metadata": {
  "kernelspec": {
   "display_name": ".venv",
   "language": "python",
   "name": "python3"
  },
  "language_info": {
   "codemirror_mode": {
    "name": "ipython",
    "version": 3
   },
   "file_extension": ".py",
   "mimetype": "text/x-python",
   "name": "python",
   "nbconvert_exporter": "python",
   "pygments_lexer": "ipython3",
   "version": "3.11.8"
  }
 },
 "nbformat": 4,
 "nbformat_minor": 2
}
