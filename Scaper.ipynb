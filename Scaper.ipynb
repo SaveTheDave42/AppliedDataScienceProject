{
 "cells": [
  {
   "cell_type": "markdown",
   "metadata": {},
   "source": [
    "Prepare Database"
   ]
  },
  {
   "cell_type": "code",
   "execution_count": 9,
   "metadata": {},
   "outputs": [],
   "source": [
    "#General\n",
    "import os\n",
    "\n",
    "#Database Connection\n",
    "import mysql.connector\n",
    "\n",
    "#Web Scraping\n",
    "import requests\n",
    "from bs4 import BeautifulSoup"
   ]
  },
  {
   "cell_type": "code",
   "execution_count": 10,
   "metadata": {},
   "outputs": [
    {
     "name": "stdout",
     "output_type": "stream",
     "text": [
      "Table homegate does not exist. Setting up table.\n"
     ]
    }
   ],
   "source": [
    "#Connect to the database\n",
    "db = mysql.connector.connect(\n",
    "    host=\"localhost\",\n",
    "    user=\"user\",\n",
    "    password=\"password\",\n",
    "    port=\"3306\",\n",
    "    database=\"realestatepredictor\"\n",
    ")\n",
    "\n",
    "#Check if the table homegate exists. Set up the table if it does not exist\n",
    "mycursor = db.cursor()\n",
    "mycursor.execute(\"SHOW TABLES\")\n",
    "tables = mycursor.fetchall()\n",
    "if ('homegate',) in tables:\n",
    "    print(\"Table homegate exists\")\n",
    "else:\n",
    "    print(\"Table homegate does not exist. Setting up table.\")\n",
    "    mycursor.execute(\"CREATE TABLE homegate (id INT AUTO_INCREMENT PRIMARY KEY, title VARCHAR(255), price FLOAT, rooms FLOAT, floor INT, address VARCHAR(255), url VARCHAR(255))\")"
   ]
  },
  {
   "cell_type": "markdown",
   "metadata": {},
   "source": [
    "Homegate"
   ]
  },
  {
   "cell_type": "code",
   "execution_count": 11,
   "metadata": {},
   "outputs": [
    {
     "name": "stdout",
     "output_type": "stream",
     "text": [
      "0 listings were successfully scraped and saved to the database.\n"
     ]
    }
   ],
   "source": [
    "# Define the URL to scrape\n",
    "url = \"https://www.homegate.ch/rent/real-estate/city-zurich/matching-list?tab=list&o=sortToplisting-desc\"\n",
    "\n",
    "# Send a GET request to the URL and get the HTML content\n",
    "response = requests.get(url)\n",
    "html_content = response.content\n",
    "\n",
    "# Parse the HTML content using BeautifulSoup\n",
    "soup = BeautifulSoup(html_content, \"html.parser\")\n",
    "\n",
    "# Find all the listings on the page\n",
    "listings = soup.find_all(\"div\", {\"class\": \"ListItemContainer-sc-1i7e9a5-0\"})\n",
    "\n",
    "# Create a cursor object to execute SQL queries\n",
    "cursor = db.cursor()\n",
    "\n",
    "# Iterate over each listing\n",
    "for listing in listings:\n",
    "    # Get the listing price\n",
    "    price = listing.find(\"div\", {\"class\": \"ListItemPrice-sc-1i7e9a5-2\"}).text.strip()\n",
    "\n",
    "    # Get the listing m2\n",
    "    m2 = listing.find(\"div\", {\"class\": \"ListItemArea-sc-1i7e9a5-3\"}).text.strip()\n",
    "\n",
    "    # Get the listing number of rooms\n",
    "    rooms = listing.find(\"div\", {\"class\": \"ListItemRooms-sc-1i7e9a5-4\"}).text.strip()\n",
    "\n",
    "    # Get the listing floor\n",
    "    floor = listing.find(\"div\", {\"class\": \"ListItemFloor-sc-1i7e9a5-5\"}).text.strip()\n",
    "\n",
    "    # Get the listing address\n",
    "    address = listing.find(\"div\", {\"class\": \"ListItemAddress-sc-1i7e9a5-6\"}).text.strip()\n",
    "\n",
    "    # Define the SQL query to insert the data into the database\n",
    "    sql = f\"INSERT INTO listings (price, m2, rooms, floor, address) VALUES ('{price}', '{m2}', '{rooms}', '{floor}', '{address}')\"\n",
    "\n",
    "    # Execute the SQL query\n",
    "    cursor.execute(sql)\n",
    "\n",
    "# Commit the changes to the database\n",
    "db.commit()\n",
    "\n",
    "# Print a success message\n",
    "print(f\"{len(listings)} listings were successfully scraped and saved to the database.\")"
   ]
  }
 ],
 "metadata": {
  "kernelspec": {
   "display_name": ".venv",
   "language": "python",
   "name": "python3"
  },
  "language_info": {
   "codemirror_mode": {
    "name": "ipython",
    "version": 3
   },
   "file_extension": ".py",
   "mimetype": "text/x-python",
   "name": "python",
   "nbconvert_exporter": "python",
   "pygments_lexer": "ipython3",
   "version": "3.11.8"
  }
 },
 "nbformat": 4,
 "nbformat_minor": 2
}
