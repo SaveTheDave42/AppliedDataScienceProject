{
 "cells": [
  {
   "cell_type": "markdown",
   "metadata": {},
   "source": [
    "Prepare Database"
   ]
  },
  {
   "cell_type": "code",
   "execution_count": 1,
   "metadata": {},
   "outputs": [],
   "source": [
    "#General\n",
    "import os\n",
    "import time\n",
    "import csv\n",
    "\n",
    "#Database Connection\n",
    "import mysql.connector\n",
    "\n",
    "#Web Scraping\n",
    "import requests\n",
    "from bs4 import BeautifulSoup"
   ]
  },
  {
   "cell_type": "code",
   "execution_count": 2,
   "metadata": {},
   "outputs": [
    {
     "name": "stdout",
     "output_type": "stream",
     "text": [
      "Table homegate does not exist. Setting up table.\n"
     ]
    }
   ],
   "source": [
    "#Connect to the database\n",
    "db = mysql.connector.connect(\n",
    "    host=\"localhost\",\n",
    "    user=\"user\",\n",
    "    password=\"password\",\n",
    "    port=\"3306\",\n",
    "    database=\"realestatepredictor\"\n",
    ")\n",
    "\n",
    "#Check if the table homegate exists. Set up the table if it does not exist\n",
    "mycursor = db.cursor()\n",
    "mycursor.execute(\"SHOW TABLES\")\n",
    "tables = mycursor.fetchall()\n",
    "if ('homegate',) in tables:\n",
    "    print(\"Table homegate exists\")\n",
    "else:\n",
    "    print(\"Table homegate does not exist. Setting up table.\")\n",
    "    mycursor.execute(\"CREATE TABLE homegate (id INT AUTO_INCREMENT PRIMARY KEY, title VARCHAR(255), price FLOAT, rooms FLOAT, floor INT, address VARCHAR(255), url VARCHAR(255))\")"
   ]
  },
  {
   "cell_type": "markdown",
   "metadata": {},
   "source": [
    "Homegate"
   ]
  },
  {
   "cell_type": "code",
   "execution_count": 6,
   "metadata": {},
   "outputs": [
    {
     "name": "stdout",
     "output_type": "stream",
     "text": [
      "No results found.\n"
     ]
    }
   ],
   "source": [
    "headers = {\n",
    "    'User-Agent': 'Mozilla/5.0 (Windows NT 10.0; Win64; x64) AppleWebKit/537.36 (KHTML, like Gecko) Chrome/58.0.3029.110 Safari/537.3'\n",
    "}\n",
    "\n",
    "locations = ['zurich', 'geneva', 'lausanne']  # Example locations\n",
    "base_url = 'https://www.homegate.ch/rent/real-estate/city-{location}/matching-list?ep={page}'\n",
    "\n",
    "def scrape_location(location):\n",
    "    page = 0\n",
    "    results = []\n",
    "\n",
    "    while True:\n",
    "        url = base_url.format(location=location, page=page)\n",
    "        response = requests.get(url, headers=headers)\n",
    "\n",
    "        if response.status_code != 200:\n",
    "            break\n",
    "\n",
    "        soup = BeautifulSoup(response.content, 'html.parser')\n",
    "        listings = soup.find_all('div', class_='listing-item')  # Update this selector based on actual page structure\n",
    "\n",
    "        if not listings:\n",
    "            break\n",
    "\n",
    "        for listing in listings:\n",
    "            # Extract data from each listing (update selectors based on actual page structure):\n",
    "            title = listing.find('h3', class_='listing-title').text.strip()\n",
    "            price = listing.find('div', class_='listing-price').text.strip()\n",
    "            # ... extract other data fields\n",
    "\n",
    "            result = {\n",
    "                'Title': title,\n",
    "                'Price': price,\n",
    "                # ... other data fields\n",
    "            }\n",
    "            results.append(result)\n",
    "\n",
    "        page += 1\n",
    "        time.sleep(1)  # Delay to avoid getting blocked\n",
    "\n",
    "    return results\n",
    "\n",
    "def main():\n",
    "    all_results = []\n",
    "    for location in locations:\n",
    "        location_results = scrape_location(location)\n",
    "        all_results.extend(location_results)\n",
    "\n",
    "    if not all_results:\n",
    "        print(\"No results found.\")\n",
    "        return\n",
    "\n",
    "    # Save results to CSV\n",
    "    keys = all_results[0].keys()\n",
    "    with open('homegate_listings.csv', 'w', newline='', encoding='utf-8') as output_file:\n",
    "        dict_writer = csv.DictWriter(output_file, keys)\n",
    "        dict_writer.writeheader()\n",
    "        dict_writer.writerows(all_results)\n",
    "\n",
    "    print(f\"{len(all_results)} listings were successfully scraped and saved to the homegate_listings.csv file.\")\n",
    "\n",
    "if __name__ == \"__main__\":\n",
    "    main()"
   ]
  }
 ],
 "metadata": {
  "kernelspec": {
   "display_name": ".venv",
   "language": "python",
   "name": "python3"
  },
  "language_info": {
   "codemirror_mode": {
    "name": "ipython",
    "version": 3
   },
   "file_extension": ".py",
   "mimetype": "text/x-python",
   "name": "python",
   "nbconvert_exporter": "python",
   "pygments_lexer": "ipython3",
   "version": "3.11.8"
  }
 },
 "nbformat": 4,
 "nbformat_minor": 2
}
